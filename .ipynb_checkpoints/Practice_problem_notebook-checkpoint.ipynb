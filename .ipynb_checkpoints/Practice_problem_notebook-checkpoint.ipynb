{
 "cells": [
  {
   "cell_type": "markdown",
   "metadata": {},
   "source": [
    "# Kata Practice \n",
    "This is a notebook where I practice how to solve code challenges"
   ]
  },
  {
   "cell_type": "markdown",
   "metadata": {},
   "source": [
    "**Problem 1**\n",
    "\n",
    "Reverse Number is a number which is the same when reversed.\n",
    "\n",
    "For Example;\n",
    "0, 1, 2, 3, 4, 5, 6, 7, 8, 9, 11, 22, 33, 44, 55, 66, 77, 88, 99, 101 => First 20 Reverse Numbers\n",
    "  \n",
    "TASK:\n",
    "\n",
    "You need to return the nth reverse number. (Assume that reverse numbers start from 0 as shown in the example.)\n",
    "\n",
    "NOTES:\n",
    "\n",
    "0 < n <= 1000000"
   ]
  },
  {
   "cell_type": "code",
   "execution_count": 13,
   "metadata": {},
   "outputs": [],
   "source": [
    "def find_reverse_number(n): \n",
    "    lst = []\n",
    "    \n",
    "    for num in range(0,1000000):\n",
    "        if num == int(str(num)[:-1]):\n",
    "            list.append(num)\n",
    "    \n",
    "    return list[n-1]    "
   ]
  },
  {
   "cell_type": "markdown",
   "metadata": {},
   "source": [
    "**OR**"
   ]
  },
  {
   "cell_type": "code",
   "execution_count": 16,
   "metadata": {},
   "outputs": [],
   "source": [
    "def find_reverse_number(n):\n",
    "\n",
    "    lst = [num for num in range(0,1000000) if num == int(str(num)[::-1])]\n",
    "    \n",
    "    return lst[n-1]"
   ]
  },
  {
   "cell_type": "markdown",
   "metadata": {},
   "source": [
    "These solutions work but they are note fast enough to submit into kata"
   ]
  },
  {
   "cell_type": "markdown",
   "metadata": {},
   "source": []
  },
  {
   "cell_type": "markdown",
   "metadata": {},
   "source": [
    "**Problem #2**\n",
    "\n",
    "Codeland Username Validation\n",
    "Have the function CodelandUsernameValidation(str) take the str parameter being passed and determine if the string is a valid username according to the following rules:\n",
    "\n",
    "1. The username is between 4 and 25 characters.\n",
    "2. It must start with a letter.\n",
    "3. It can only contain letters, numbers, and the underscore character.\n",
    "4. It cannot end with an underscore character.\n",
    "\n",
    "If the username is valid then your program should return the string true, otherwise return the string false."
   ]
  },
  {
   "cell_type": "markdown",
   "metadata": {},
   "source": [
    "**Solution**"
   ]
  },
  {
   "cell_type": "code",
   "execution_count": 6,
   "metadata": {},
   "outputs": [],
   "source": [
    "def CodelandUsernameValidation(strParam):\n",
    "    lst = list(strParam) \n",
    "    letters = ['a','b','c','d','e','f','g','h','i','j','k','l','m','n','o','p','q','r','s','t','u','v','w','x','y','z']\n",
    "    master = ['1','2','3','4','5','6','7','8','9','0','a','b','c','d','e','f','g','h','i','j','k','l','m','n','o','p','q','r','s','t','u','v','w','x','y','z','_']\n",
    "    for i in lst:\n",
    "        if ( (len(strParam) <= 4) and (len(strParam) >= 25) and (i[0] == any(letters)) and (i == any(master)) and (i[26] != '_') ):\n",
    "            return print('true')\n",
    "        else:\n",
    "            return print('false')\n",
    "    \n",
    "    return strParam"
   ]
  },
  {
   "cell_type": "markdown",
   "metadata": {},
   "source": [
    "**Problem #3**\n",
    "\n",
    "Have the function LongestWord(sen) take the sen parameter being passed and return the longest word in the string. If there are two or more words that are the same length, return the first word from the string with that length. Ignore punctuation and assume sen will not be empty. Words may also contain numbers, for example \"Hello world123 567\""
   ]
  },
  {
   "cell_type": "code",
   "execution_count": null,
   "metadata": {},
   "outputs": [],
   "source": [
    "from string import ascii_letters\n",
    "\n",
    "allowed = set(ascii_letters + ' ')\n",
    "\n",
    "answer = ''.join(l for l in sen if l in allowed)"
   ]
  }
 ],
 "metadata": {
  "kernelspec": {
   "display_name": "Python 3",
   "language": "python",
   "name": "python3"
  },
  "language_info": {
   "codemirror_mode": {
    "name": "ipython",
    "version": 3
   },
   "file_extension": ".py",
   "mimetype": "text/x-python",
   "name": "python",
   "nbconvert_exporter": "python",
   "pygments_lexer": "ipython3",
   "version": "3.8.3"
  },
  "toc": {
   "base_numbering": 1,
   "nav_menu": {},
   "number_sections": true,
   "sideBar": true,
   "skip_h1_title": false,
   "title_cell": "Table of Contents",
   "title_sidebar": "Contents",
   "toc_cell": false,
   "toc_position": {},
   "toc_section_display": true,
   "toc_window_display": false
  }
 },
 "nbformat": 4,
 "nbformat_minor": 4
}
